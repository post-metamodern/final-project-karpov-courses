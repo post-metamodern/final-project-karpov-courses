{
 "cells": [
  {
   "cell_type": "markdown",
   "metadata": {},
   "source": [
    "# Задание 1. A/B–тестирование"
   ]
  },
  {
   "cell_type": "markdown",
   "metadata": {},
   "source": [
    "## Условие"
   ]
  },
  {
   "cell_type": "markdown",
   "metadata": {},
   "source": [
    "Одной из основных задач аналитика в нашей команде является корректное проведение экспериментов. Для этого мы применяем метод A/B–тестирования. В ходе тестирования одной гипотезы целевой группе была предложена новая механика оплаты услуг на сайте, у контрольной группы оставалась базовая механика. В качестве задания Вам необходимо проанализировать итоги эксперимента и сделать вывод, стоит ли запускать новую механику оплаты на всех пользователей."
   ]
  },
  {
   "cell_type": "code",
   "execution_count": 1,
   "metadata": {},
   "outputs": [],
   "source": [
    "import pandas as pd\n",
    "import seaborn as sns\n",
    "import numpy as np\n",
    "import scipy.stats as ss\n",
    "\n",
    "# библиотеки для чтения данных\n",
    "import requests as r\n",
    "import json\n",
    "\n",
    "%matplotlib inline"
   ]
  },
  {
   "cell_type": "markdown",
   "metadata": {},
   "source": [
    "## Входные данные"
   ]
  },
  {
   "cell_type": "markdown",
   "metadata": {},
   "source": [
    "В качестве входных данных имеется 4 csv-файла:\n",
    "\n",
    "- groups.csv - файл с информацией о принадлежности пользователя к контрольной или экспериментальной группе (А – контроль, B – целевая группа) \n",
    "    \n",
    "- groups_add.csv - дополнительный файл с пользователями, который вам прислали спустя 2 дня после передачи данных\n",
    "    \n",
    "- active_studs.csv - файл с информацией о пользователях, которые зашли на платформу в дни проведения эксперимента. \n",
    "    \n",
    "- checks.csv - файл с информацией об оплатах пользователей в дни проведения эксперимента. \n"
   ]
  },
  {
   "cell_type": "markdown",
   "metadata": {},
   "source": [
    "## Считывание данных"
   ]
  },
  {
   "cell_type": "code",
   "execution_count": 2,
   "metadata": {},
   "outputs": [],
   "source": [
    "# Функция для считывания данных с Яндекс Диска\n",
    "\n",
    "def read_csv_file(link):\n",
    "    file = r.get(f'https://cloud-api.yandex.net/v1/disk/public/resources?public_key={link}').json()['file']\n",
    "     # при помощи параметра engine='python' в параметре sep удалось учесть несколько разделителей\n",
    "    df = pd.read_csv(file, sep=';|,', engine='python')\n",
    "    return df"
   ]
  },
  {
   "cell_type": "code",
   "execution_count": 3,
   "metadata": {},
   "outputs": [],
   "source": [
    "# Ссылки на данные\n",
    "\n",
    "groups_link = 'https://disk.yandex.ru/d/UhyYx41rTt3clQ'\n",
    "groups_add_link = 'https://disk.yandex.ru/d/5Kxrz02m3IBUwQ'\n",
    "active_studs_link = 'https://disk.yandex.ru/d/Tbs44Bm6H_FwFQ'\n",
    "checks_link = 'https://disk.yandex.ru/d/pH1q-VqcxXjsVA'"
   ]
  },
  {
   "cell_type": "code",
   "execution_count": 4,
   "metadata": {},
   "outputs": [],
   "source": [
    "# Считывание данных\n",
    "\n",
    "groups_df = read_csv_file(groups_link)\n",
    "groups_add_df = read_csv_file(groups_add_link)\n",
    "active_studs_df = read_csv_file(active_studs_link)\n",
    "checks_df = read_csv_file(checks_link)"
   ]
  },
  {
   "cell_type": "markdown",
   "metadata": {},
   "source": [
    "## Работа с исходными таблицами"
   ]
  },
  {
   "cell_type": "code",
   "execution_count": 5,
   "metadata": {},
   "outputs": [
    {
     "data": {
      "text/plain": [
       "0"
      ]
     },
     "execution_count": 5,
     "metadata": {},
     "output_type": "execute_result"
    }
   ],
   "source": [
    "# Проверка на корректность данных: в доп файле не дублируется id пользователя\n",
    "\n",
    "groups_add_df.id.isin(groups_df.id).sum()"
   ]
  },
  {
   "cell_type": "code",
   "execution_count": 6,
   "metadata": {},
   "outputs": [],
   "source": [
    "# Переименовал колонки\n",
    "\n",
    "active_studs_df = active_studs_df.rename(columns={'\"student_id\"': 'id'})\n",
    "checks_df = checks_df.rename(columns={'\"student_id\"': 'id', '\"rev\"': 'rev'})"
   ]
  },
  {
   "cell_type": "markdown",
   "metadata": {},
   "source": [
    "Работа с таблицей checks_df"
   ]
  },
  {
   "cell_type": "code",
   "execution_count": 7,
   "metadata": {},
   "outputs": [
    {
     "data": {
      "text/plain": [
       "541"
      ]
     },
     "execution_count": 7,
     "metadata": {},
     "output_type": "execute_result"
    }
   ],
   "source": [
    "# Количество строк в таблице checks_df\n",
    "\n",
    "checks_df.shape[0]"
   ]
  },
  {
   "cell_type": "code",
   "execution_count": 8,
   "metadata": {},
   "outputs": [
    {
     "data": {
      "text/plain": [
       "541"
      ]
     },
     "execution_count": 8,
     "metadata": {},
     "output_type": "execute_result"
    }
   ],
   "source": [
    "# Количество уникальных значений id в таблице checks_df\n",
    "\n",
    "checks_df.id.nunique()"
   ]
  },
  {
   "cell_type": "markdown",
   "metadata": {},
   "source": [
    "Количество уникальных значений id в таблице checks_df равно количеству строк.\n",
    "\n",
    "Значит каждый пользователь, совершивший платное действие, произвел одну оплату в дни проведения тестирования."
   ]
  },
  {
   "cell_type": "code",
   "execution_count": 9,
   "metadata": {},
   "outputs": [],
   "source": [
    "# Совместил всех пользователей участвующих в A/B-тестировании \n",
    "\n",
    "all_users = pd.concat([groups_df, groups_add_df], ignore_index=True)"
   ]
  },
  {
   "cell_type": "markdown",
   "metadata": {},
   "source": [
    "Применяю left join для таблицы с юзерами, которые зашли на платформу в дни проведения эксперемента с таблицой, содержащей всех пользователей, участвующих в A/B-тестировании.\n",
    "\n",
    "Далее работаю с данной таблицей."
   ]
  },
  {
   "cell_type": "code",
   "execution_count": 10,
   "metadata": {},
   "outputs": [],
   "source": [
    "active_users = active_studs_df.merge(all_users, how='left', on='id')"
   ]
  },
  {
   "cell_type": "code",
   "execution_count": 11,
   "metadata": {},
   "outputs": [
    {
     "data": {
      "text/plain": [
       "id     0\n",
       "grp    0\n",
       "dtype: int64"
      ]
     },
     "execution_count": 11,
     "metadata": {},
     "output_type": "execute_result"
    }
   ],
   "source": [
    "# Джойн выполнен успешно\n",
    "\n",
    "active_users.isnull().sum()"
   ]
  },
  {
   "cell_type": "code",
   "execution_count": 12,
   "metadata": {},
   "outputs": [
    {
     "data": {
      "text/plain": [
       "8341"
      ]
     },
     "execution_count": 12,
     "metadata": {},
     "output_type": "execute_result"
    }
   ],
   "source": [
    "# Количество строк в таблице\n",
    "\n",
    "active_users.shape[0]"
   ]
  },
  {
   "cell_type": "code",
   "execution_count": 13,
   "metadata": {},
   "outputs": [],
   "source": [
    "# Джойн всех активных пользователей с пользователями совершившими оплату\n",
    "\n",
    "active_users = active_users.merge(checks_df, how='left', on='id').fillna(0)"
   ]
  },
  {
   "cell_type": "code",
   "execution_count": 14,
   "metadata": {
    "scrolled": false
   },
   "outputs": [
    {
     "data": {
      "text/html": [
       "<div>\n",
       "<style scoped>\n",
       "    .dataframe tbody tr th:only-of-type {\n",
       "        vertical-align: middle;\n",
       "    }\n",
       "\n",
       "    .dataframe tbody tr th {\n",
       "        vertical-align: top;\n",
       "    }\n",
       "\n",
       "    .dataframe thead th {\n",
       "        text-align: right;\n",
       "    }\n",
       "</style>\n",
       "<table border=\"1\" class=\"dataframe\">\n",
       "  <thead>\n",
       "    <tr style=\"text-align: right;\">\n",
       "      <th></th>\n",
       "      <th>id</th>\n",
       "      <th>grp</th>\n",
       "      <th>rev</th>\n",
       "      <th>is_purchase</th>\n",
       "    </tr>\n",
       "  </thead>\n",
       "  <tbody>\n",
       "    <tr>\n",
       "      <th>0</th>\n",
       "      <td>581585</td>\n",
       "      <td>A</td>\n",
       "      <td>0.0</td>\n",
       "      <td>0</td>\n",
       "    </tr>\n",
       "    <tr>\n",
       "      <th>1</th>\n",
       "      <td>5723133</td>\n",
       "      <td>A</td>\n",
       "      <td>0.0</td>\n",
       "      <td>0</td>\n",
       "    </tr>\n",
       "    <tr>\n",
       "      <th>2</th>\n",
       "      <td>3276743</td>\n",
       "      <td>B</td>\n",
       "      <td>0.0</td>\n",
       "      <td>0</td>\n",
       "    </tr>\n",
       "    <tr>\n",
       "      <th>3</th>\n",
       "      <td>4238589</td>\n",
       "      <td>A</td>\n",
       "      <td>0.0</td>\n",
       "      <td>0</td>\n",
       "    </tr>\n",
       "    <tr>\n",
       "      <th>4</th>\n",
       "      <td>4475369</td>\n",
       "      <td>B</td>\n",
       "      <td>0.0</td>\n",
       "      <td>0</td>\n",
       "    </tr>\n",
       "    <tr>\n",
       "      <th>...</th>\n",
       "      <td>...</td>\n",
       "      <td>...</td>\n",
       "      <td>...</td>\n",
       "      <td>...</td>\n",
       "    </tr>\n",
       "    <tr>\n",
       "      <th>8336</th>\n",
       "      <td>1794344</td>\n",
       "      <td>B</td>\n",
       "      <td>0.0</td>\n",
       "      <td>0</td>\n",
       "    </tr>\n",
       "    <tr>\n",
       "      <th>8337</th>\n",
       "      <td>296883</td>\n",
       "      <td>B</td>\n",
       "      <td>0.0</td>\n",
       "      <td>0</td>\n",
       "    </tr>\n",
       "    <tr>\n",
       "      <th>8338</th>\n",
       "      <td>3598448</td>\n",
       "      <td>B</td>\n",
       "      <td>0.0</td>\n",
       "      <td>0</td>\n",
       "    </tr>\n",
       "    <tr>\n",
       "      <th>8339</th>\n",
       "      <td>3610547</td>\n",
       "      <td>B</td>\n",
       "      <td>290.0</td>\n",
       "      <td>1</td>\n",
       "    </tr>\n",
       "    <tr>\n",
       "      <th>8340</th>\n",
       "      <td>205705</td>\n",
       "      <td>B</td>\n",
       "      <td>0.0</td>\n",
       "      <td>0</td>\n",
       "    </tr>\n",
       "  </tbody>\n",
       "</table>\n",
       "<p>8341 rows × 4 columns</p>\n",
       "</div>"
      ],
      "text/plain": [
       "           id grp    rev  is_purchase\n",
       "0      581585   A    0.0            0\n",
       "1     5723133   A    0.0            0\n",
       "2     3276743   B    0.0            0\n",
       "3     4238589   A    0.0            0\n",
       "4     4475369   B    0.0            0\n",
       "...       ...  ..    ...          ...\n",
       "8336  1794344   B    0.0            0\n",
       "8337   296883   B    0.0            0\n",
       "8338  3598448   B    0.0            0\n",
       "8339  3610547   B  290.0            1\n",
       "8340   205705   B    0.0            0\n",
       "\n",
       "[8341 rows x 4 columns]"
      ]
     },
     "execution_count": 14,
     "metadata": {},
     "output_type": "execute_result"
    }
   ],
   "source": [
    "# Создаю колонку с фактом оплаты, где 0 - не было оплаты, 1 - была оплата\n",
    "\n",
    "active_users['is_purchase'] = np.where(active_users.rev > 0, 1, 0)\n",
    "active_users"
   ]
  },
  {
   "cell_type": "code",
   "execution_count": 15,
   "metadata": {},
   "outputs": [
    {
     "data": {
      "text/plain": [
       "392"
      ]
     },
     "execution_count": 15,
     "metadata": {},
     "output_type": "execute_result"
    }
   ],
   "source": [
    "# 392 пользователя, участвующих в тестировании, совершили оплату\n",
    "\n",
    "active_users.is_purchase.sum()"
   ]
  },
  {
   "cell_type": "markdown",
   "metadata": {},
   "source": [
    "## Расчет метрик"
   ]
  },
  {
   "cell_type": "code",
   "execution_count": 16,
   "metadata": {
    "scrolled": true
   },
   "outputs": [],
   "source": [
    "# Датафрейм для расчета метрик \n",
    "\n",
    "metrics = active_users \\\n",
    "    .groupby('grp', as_index=False) \\\n",
    "    .agg({'id': 'count', 'is_purchase': 'sum', 'rev': 'sum'}) \\\n",
    "    .rename(columns={'grp': 'group', 'id': 'users_count', 'rev': 'revenue', 'is_purchase': 'purchase_count'}, index={0: 'control', 1: 'target'})"
   ]
  },
  {
   "cell_type": "code",
   "execution_count": 17,
   "metadata": {},
   "outputs": [],
   "source": [
    "# Конверсия пользователя в покупку\n",
    "\n",
    "metrics['CR'] = metrics.purchase_count / metrics.users_count"
   ]
  },
  {
   "cell_type": "code",
   "execution_count": 18,
   "metadata": {},
   "outputs": [],
   "source": [
    "# Средний доход на пользователя\n",
    "\n",
    "metrics['ARPU'] = metrics.revenue / metrics.users_count"
   ]
  },
  {
   "cell_type": "code",
   "execution_count": 19,
   "metadata": {},
   "outputs": [],
   "source": [
    "# Средний доход на платящего пользователя (клиента)\n",
    "\n",
    "metrics['ARPPU'] = metrics.revenue / metrics.purchase_count"
   ]
  },
  {
   "cell_type": "code",
   "execution_count": 20,
   "metadata": {},
   "outputs": [
    {
     "data": {
      "text/html": [
       "<div>\n",
       "<style scoped>\n",
       "    .dataframe tbody tr th:only-of-type {\n",
       "        vertical-align: middle;\n",
       "    }\n",
       "\n",
       "    .dataframe tbody tr th {\n",
       "        vertical-align: top;\n",
       "    }\n",
       "\n",
       "    .dataframe thead th {\n",
       "        text-align: right;\n",
       "    }\n",
       "</style>\n",
       "<table border=\"1\" class=\"dataframe\">\n",
       "  <thead>\n",
       "    <tr style=\"text-align: right;\">\n",
       "      <th></th>\n",
       "      <th>group</th>\n",
       "      <th>users_count</th>\n",
       "      <th>purchase_count</th>\n",
       "      <th>revenue</th>\n",
       "      <th>CR</th>\n",
       "      <th>ARPU</th>\n",
       "      <th>ARPPU</th>\n",
       "    </tr>\n",
       "  </thead>\n",
       "  <tbody>\n",
       "    <tr>\n",
       "      <th>control</th>\n",
       "      <td>A</td>\n",
       "      <td>1538</td>\n",
       "      <td>78</td>\n",
       "      <td>72820.0000</td>\n",
       "      <td>0.050715</td>\n",
       "      <td>47.347204</td>\n",
       "      <td>933.589744</td>\n",
       "    </tr>\n",
       "    <tr>\n",
       "      <th>target</th>\n",
       "      <td>B</td>\n",
       "      <td>6803</td>\n",
       "      <td>314</td>\n",
       "      <td>394974.0035</td>\n",
       "      <td>0.046156</td>\n",
       "      <td>58.058798</td>\n",
       "      <td>1257.878992</td>\n",
       "    </tr>\n",
       "  </tbody>\n",
       "</table>\n",
       "</div>"
      ],
      "text/plain": [
       "        group  users_count  purchase_count      revenue        CR       ARPU  \\\n",
       "control     A         1538              78   72820.0000  0.050715  47.347204   \n",
       "target      B         6803             314  394974.0035  0.046156  58.058798   \n",
       "\n",
       "               ARPPU  \n",
       "control   933.589744  \n",
       "target   1257.878992  "
      ]
     },
     "execution_count": 20,
     "metadata": {},
     "output_type": "execute_result"
    }
   ],
   "source": [
    "metrics"
   ]
  },
  {
   "cell_type": "markdown",
   "metadata": {},
   "source": [
    "## Проведение A/B-тестирования"
   ]
  },
  {
   "cell_type": "markdown",
   "metadata": {},
   "source": [
    "В результате проведения A/B-тестирования будет решено, стоит ли внедрять новую механику оплаты на всех пользователей или нет. "
   ]
  },
  {
   "cell_type": "markdown",
   "metadata": {},
   "source": [
    "### Тест №1"
   ]
  },
  {
   "cell_type": "markdown",
   "metadata": {},
   "source": [
    "В качестве первого теста я использую критерий хи-квадрат. При его проведение я опираюсь на CR пользователя в покупку. На вход функции подается таблица сопряженности с количеством пользователей разных групп с оплатой и без.\n",
    "\n",
    "Выдвигаю гипотезы:\n",
    "\n",
    "- H0: новая механика оплаты услуг на сайте не влияет на конверсию пользователей в покупку\n",
    "\n",
    "- H1: новая механика оплаты услуг на сайте влияет на конверсию пользователей в покупку"
   ]
  },
  {
   "cell_type": "code",
   "execution_count": 21,
   "metadata": {},
   "outputs": [],
   "source": [
    "# Общая настройка графиков для всего файла\n",
    "\n",
    "sns.set(\n",
    "    font_scale=1.5,\n",
    "    style=\"whitegrid\",\n",
    "    rc={'figure.figsize':(18,7)}\n",
    ")"
   ]
  },
  {
   "cell_type": "code",
   "execution_count": 22,
   "metadata": {},
   "outputs": [
    {
     "data": {
      "image/png": "[encoded data removed]",
      "text/plain": [
       "<Figure size 1296x504 with 1 Axes>"
      ]
     },
     "metadata": {},
     "output_type": "display_data"
    }
   ],
   "source": [
    "# График, отображающий конверсию пользователей в покупку\n",
    "\n",
    "ax = sns.countplot(data=active_users, x='grp', hue='is_purchase')\n",
    "ax.set(xticklabels=['control', 'target'], xlabel='groups')\n",
    "ax.legend(title='Is purchase', labels=['No', 'Yes'])\n",
    "\n",
    "for i in ax.patches:\n",
    "    ax.annotate(f'{i.get_height()}', (i.get_x() + i.get_width() / 2, i.get_height()), ha='center')"
   ]
  },
  {
   "cell_type": "code",
   "execution_count": 23,
   "metadata": {
    "scrolled": false
   },
   "outputs": [
    {
     "data": {
      "text/html": [
       "<div>\n",
       "<style scoped>\n",
       "    .dataframe tbody tr th:only-of-type {\n",
       "        vertical-align: middle;\n",
       "    }\n",
       "\n",
       "    .dataframe tbody tr th {\n",
       "        vertical-align: top;\n",
       "    }\n",
       "\n",
       "    .dataframe thead th {\n",
       "        text-align: right;\n",
       "    }\n",
       "</style>\n",
       "<table border=\"1\" class=\"dataframe\">\n",
       "  <thead>\n",
       "    <tr style=\"text-align: right;\">\n",
       "      <th>is_purchase</th>\n",
       "      <th>0</th>\n",
       "      <th>1</th>\n",
       "    </tr>\n",
       "    <tr>\n",
       "      <th>grp</th>\n",
       "      <th></th>\n",
       "      <th></th>\n",
       "    </tr>\n",
       "  </thead>\n",
       "  <tbody>\n",
       "    <tr>\n",
       "      <th>A</th>\n",
       "      <td>1460</td>\n",
       "      <td>78</td>\n",
       "    </tr>\n",
       "    <tr>\n",
       "      <th>B</th>\n",
       "      <td>6489</td>\n",
       "      <td>314</td>\n",
       "    </tr>\n",
       "  </tbody>\n",
       "</table>\n",
       "</div>"
      ],
      "text/plain": [
       "is_purchase     0    1\n",
       "grp                   \n",
       "A            1460   78\n",
       "B            6489  314"
      ]
     },
     "execution_count": 23,
     "metadata": {},
     "output_type": "execute_result"
    }
   ],
   "source": [
    "# Создаю таблицу сопряженности\n",
    "\n",
    "test_1 = pd.crosstab(active_users.grp, active_users.is_purchase)\n",
    "test_1"
   ]
  },
  {
   "cell_type": "code",
   "execution_count": 24,
   "metadata": {
    "scrolled": true
   },
   "outputs": [
    {
     "data": {
      "text/plain": [
       "(0.48480826522557896,\n",
       " 0.48625240457231045,\n",
       " 1,\n",
       " array([[1465.71897854,   72.28102146],\n",
       "        [6483.28102146,  319.71897854]]))"
      ]
     },
     "execution_count": 24,
     "metadata": {},
     "output_type": "execute_result"
    }
   ],
   "source": [
    "# Применяю критерий хи-квадрат\n",
    "\n",
    "ss.chi2_contingency(test_1)"
   ]
  },
  {
   "cell_type": "markdown",
   "metadata": {},
   "source": [
    "Значение p-value равно ~0.48, что сильно больше 0.05, значит у нас нет основания отклонить нулевую гипотезу, следовательно новая механика оплаты услуг на сайте не влияет на конверсию пользователей в покупку."
   ]
  },
  {
   "cell_type": "markdown",
   "metadata": {},
   "source": [
    "### Тест №2"
   ]
  },
  {
   "cell_type": "markdown",
   "metadata": {},
   "source": [
    "Для второго теста я также буду использовать критерий хи-квадрат. В этом случае я буду опираться на метрику ARPPU. На вход функции подается таблица сопряженности с количеством пользователей совершивших покупку и доходом от этих пользователей.\n",
    "\n",
    "Гипотезы:\n",
    "\n",
    "- H0: новая механика оплаты услуг на сайте не влияет на средний доход от платящего пользователя\n",
    "\n",
    "- H1: новая механика оплаты услуг на сайте влияет на средний доход от платящего пользователя"
   ]
  },
  {
   "cell_type": "code",
   "execution_count": 25,
   "metadata": {},
   "outputs": [
    {
     "data": {
      "image/png": "[encoded data removed]",
      "text/plain": [
       "<Figure size 1296x504 with 1 Axes>"
      ]
     },
     "metadata": {},
     "output_type": "display_data"
    }
   ],
   "source": [
    "# График ARPPU по целевой и контрольной группам\n",
    "\n",
    "ax = sns.barplot(data=metrics, x='group', y='ARPPU')\n",
    "ax.set(xticklabels=['control', 'target'], xlabel='groups')\n",
    "\n",
    "for i in ax.patches:\n",
    "    ax.annotate(f'{round(i.get_height(), 0)}', (i.get_x() + i.get_width() / 2, i.get_height()), ha='center')"
   ]
  },
  {
   "cell_type": "code",
   "execution_count": 26,
   "metadata": {},
   "outputs": [
    {
     "data": {
      "text/html": [
       "<div>\n",
       "<style scoped>\n",
       "    .dataframe tbody tr th:only-of-type {\n",
       "        vertical-align: middle;\n",
       "    }\n",
       "\n",
       "    .dataframe tbody tr th {\n",
       "        vertical-align: top;\n",
       "    }\n",
       "\n",
       "    .dataframe thead th {\n",
       "        text-align: right;\n",
       "    }\n",
       "</style>\n",
       "<table border=\"1\" class=\"dataframe\">\n",
       "  <thead>\n",
       "    <tr style=\"text-align: right;\">\n",
       "      <th></th>\n",
       "      <th>purchase_count</th>\n",
       "      <th>revenue</th>\n",
       "    </tr>\n",
       "  </thead>\n",
       "  <tbody>\n",
       "    <tr>\n",
       "      <th>control</th>\n",
       "      <td>78</td>\n",
       "      <td>72820.0000</td>\n",
       "    </tr>\n",
       "    <tr>\n",
       "      <th>target</th>\n",
       "      <td>314</td>\n",
       "      <td>394974.0035</td>\n",
       "    </tr>\n",
       "  </tbody>\n",
       "</table>\n",
       "</div>"
      ],
      "text/plain": [
       "         purchase_count      revenue\n",
       "control              78   72820.0000\n",
       "target              314  394974.0035"
      ]
     },
     "execution_count": 26,
     "metadata": {},
     "output_type": "execute_result"
    }
   ],
   "source": [
    "# Создаю таблицу сопряженности\n",
    "\n",
    "test_2 = metrics[['purchase_count', 'revenue']]\n",
    "test_2"
   ]
  },
  {
   "cell_type": "code",
   "execution_count": 27,
   "metadata": {},
   "outputs": [
    {
     "data": {
      "text/plain": [
       "(5.264739226632414,\n",
       " 0.021761682832048438,\n",
       " 1,\n",
       " array([[6.10356051e+01, 7.28369644e+04],\n",
       "        [3.30964395e+02, 3.94957039e+05]]))"
      ]
     },
     "execution_count": 27,
     "metadata": {},
     "output_type": "execute_result"
    }
   ],
   "source": [
    "# Применяю критерий хи-квадрат\n",
    "\n",
    "ss.chi2_contingency(test_2)"
   ]
  },
  {
   "cell_type": "markdown",
   "metadata": {},
   "source": [
    "Значение p-value меньше 0.05, что дает основание отклонить нулевую гипотезу в пользу альтернативной. Можно полагать, что новая механика оплаты услуг на сайте влияет на средний доход от платящего пользователя."
   ]
  },
  {
   "cell_type": "markdown",
   "metadata": {},
   "source": [
    "### Тест №3"
   ]
  },
  {
   "cell_type": "markdown",
   "metadata": {},
   "source": [
    "Для оценки новой механики оплаты, в качестве третьего теста, я буду использовать распределения дохода от платящих пользователей(клиентов) контрольной и целевой групп.\n",
    "\n",
    "Гипотезы:\n",
    "\n",
    "- H0: новая механика оплаты услуг на сайте не влияет на доход от платящих пользователей\n",
    "\n",
    "- H1: новая механика оплаты услуг на сайте влияет на доход от платящих пользователей"
   ]
  },
  {
   "cell_type": "code",
   "execution_count": 28,
   "metadata": {
    "scrolled": false
   },
   "outputs": [
    {
     "data": {
      "text/plain": [
       "[Text(0, 0.5, 'revenue'),\n",
       " [Text(0, 0, 'control'), Text(0, 0, 'target')],\n",
       " Text(0.5, 0, 'groups')]"
      ]
     },
     "execution_count": 28,
     "metadata": {},
     "output_type": "execute_result"
    },
    {
     "data": {
      "image/png": "[encoded data removed]",
      "text/plain": [
       "<Figure size 1296x504 with 1 Axes>"
      ]
     },
     "metadata": {},
     "output_type": "display_data"
    }
   ],
   "source": [
    "# Распределения дохода от платящих пользователей целевой и контрольной групп\n",
    "\n",
    "ax = sns.boxplot(data=active_users.loc[active_users.rev > 0], x='grp', y='rev')\n",
    "ax.set(xticklabels=['control', 'target'], xlabel='groups', ylabel='revenue')"
   ]
  },
  {
   "cell_type": "code",
   "execution_count": 29,
   "metadata": {},
   "outputs": [],
   "source": [
    "# Пандас серия дохода от платящих пользователей контрольной группы\n",
    "\n",
    "revenue_control_series = active_users.query('rev > 0 and grp == \"A\"').rev"
   ]
  },
  {
   "cell_type": "code",
   "execution_count": 30,
   "metadata": {
    "scrolled": false
   },
   "outputs": [
    {
     "data": {
      "text/plain": [
       "<seaborn.axisgrid.FacetGrid at 0x7fc24b02c400>"
      ]
     },
     "execution_count": 30,
     "metadata": {},
     "output_type": "execute_result"
    },
    {
     "data": {
      "image/png": "[encoded data removed]",
      "text/plain": [
       "<Figure size 360x360 with 1 Axes>"
      ]
     },
     "metadata": {},
     "output_type": "display_data"
    }
   ],
   "source": [
    "# Распределение дохода платящих пользователей контрольной группы\n",
    "\n",
    "sns.displot(revenue_control_series)"
   ]
  },
  {
   "cell_type": "code",
   "execution_count": 31,
   "metadata": {},
   "outputs": [],
   "source": [
    "# Пандас серия дохода от платящих пользователей целевой группы\n",
    "\n",
    "revenue_target_series = active_users.query('rev > 0 and grp == \"B\"').rev"
   ]
  },
  {
   "cell_type": "code",
   "execution_count": 32,
   "metadata": {
    "scrolled": false
   },
   "outputs": [
    {
     "data": {
      "text/plain": [
       "<seaborn.axisgrid.FacetGrid at 0x7fc24af886a0>"
      ]
     },
     "execution_count": 32,
     "metadata": {},
     "output_type": "execute_result"
    },
    {
     "data": {
      "image/png": "[encoded data removed]",
      "text/plain": [
       "<Figure size 360x360 with 1 Axes>"
      ]
     },
     "metadata": {},
     "output_type": "display_data"
    }
   ],
   "source": [
    "# Распределение дохода платящих пользователей целевой группы\n",
    "\n",
    "sns.displot(revenue_target_series)"
   ]
  },
  {
   "cell_type": "markdown",
   "metadata": {},
   "source": [
    "По графикам видно, что распределения не являются нормальными, но для подтвержения этого факта я проведу проверки на нормальность."
   ]
  },
  {
   "cell_type": "code",
   "execution_count": 33,
   "metadata": {},
   "outputs": [
    {
     "data": {
      "text/plain": [
       "NormaltestResult(statistic=30.378419638487458, pvalue=2.531686880422046e-07)"
      ]
     },
     "execution_count": 33,
     "metadata": {},
     "output_type": "execute_result"
    }
   ],
   "source": [
    "ss.normaltest(revenue_control_series)"
   ]
  },
  {
   "cell_type": "code",
   "execution_count": 34,
   "metadata": {},
   "outputs": [
    {
     "data": {
      "text/plain": [
       "NormaltestResult(statistic=6.795662714490353, pvalue=0.033445723194625424)"
      ]
     },
     "execution_count": 34,
     "metadata": {},
     "output_type": "execute_result"
    }
   ],
   "source": [
    "ss.normaltest(revenue_target_series)"
   ]
  },
  {
   "cell_type": "markdown",
   "metadata": {},
   "source": [
    "Распределения не прошли проверку на нормальность, значит t-критерий Стьюдента использовать нельзя. Вместо него можно применить критерий Манна-Уитни или метод bootstrap. Для достоверности результата я проведу оба теста."
   ]
  },
  {
   "cell_type": "code",
   "execution_count": 35,
   "metadata": {},
   "outputs": [
    {
     "data": {
      "text/plain": [
       "BootstrapResult(confidence_interval=ConfidenceInterval(low=751.9610099357125, high=1164.2018914045357), standard_error=103.96505893719717)"
      ]
     },
     "execution_count": 35,
     "metadata": {},
     "output_type": "execute_result"
    }
   ],
   "source": [
    "# Применяю bootstrap для контрольной группы\n",
    "\n",
    "ss.bootstrap((revenue_control_series, ), np.mean)"
   ]
  },
  {
   "cell_type": "code",
   "execution_count": 36,
   "metadata": {},
   "outputs": [
    {
     "data": {
      "text/plain": [
       "BootstrapResult(confidence_interval=ConfidenceInterval(low=1169.6925750191658, high=1347.240685091279), standard_error=44.70229231111399)"
      ]
     },
     "execution_count": 36,
     "metadata": {},
     "output_type": "execute_result"
    }
   ],
   "source": [
    "# Применяю bootstrap для целевой группы\n",
    "\n",
    "ss.bootstrap((revenue_target_series, ), np.mean)"
   ]
  },
  {
   "cell_type": "markdown",
   "metadata": {},
   "source": [
    "Доверительный интервал в контрольной группе - [756; 1163], в целевой - [1171; 1347]. Доверительные интервалы не пересекаются, значит есть основания отклонить нулевую гипотезу."
   ]
  },
  {
   "cell_type": "code",
   "execution_count": 37,
   "metadata": {},
   "outputs": [
    {
     "data": {
      "text/plain": [
       "MannwhitneyuResult(statistic=9001.0, pvalue=0.0002511393831406922)"
      ]
     },
     "execution_count": 37,
     "metadata": {},
     "output_type": "execute_result"
    }
   ],
   "source": [
    "# Применяю критерий Манна-Уитни\n",
    "\n",
    "ss.mannwhitneyu(revenue_control_series, revenue_target_series)"
   ]
  },
  {
   "cell_type": "markdown",
   "metadata": {},
   "source": [
    "Значение p-value равно ~0.00025 что сильно меньше 0.05, значит есть основания отклонить нулевую гипотезу в пользу альтернативной."
   ]
  },
  {
   "cell_type": "markdown",
   "metadata": {},
   "source": [
    "В обоих тестах была отклонена нулевая гипотеза, отсюда можно полагать, что новая механика оплаты услуг на сайте влияет на доход от платящих пользователей. "
   ]
  },
  {
   "cell_type": "markdown",
   "metadata": {},
   "source": [
    "## Вывод"
   ]
  },
  {
   "cell_type": "markdown",
   "metadata": {},
   "source": [
    "Было проведено 3 статистических теста, в двух из которых была принята альтернативная гипотеза. Отсюда я могу сделать вывод, что новая механика оплаты услуг на сайте оказалась более эффективной по сравнению с базовой механикой. Я считаю, что новую механику оплаты услуг стоит внедрить для всех пользователей сайта. "
   ]
  }
 ],
 "metadata": {
  "kernelspec": {
   "display_name": "Python 3",
   "language": "python",
   "name": "python3"
  },
  "language_info": {
   "codemirror_mode": {
    "name": "ipython",
    "version": 3
   },
   "file_extension": ".py",
   "mimetype": "text/x-python",
   "name": "python",
   "nbconvert_exporter": "python",
   "pygments_lexer": "ipython3",
   "version": "3.7.3"
  }
 },
 "nbformat": 4,
 "nbformat_minor": 4
}

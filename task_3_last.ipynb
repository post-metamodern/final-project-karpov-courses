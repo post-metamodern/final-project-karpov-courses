{
 "cells": [
  {
   "cell_type": "markdown",
   "metadata": {},
   "source": [
    "## Задача 3. Python"
   ]
  },
  {
   "cell_type": "markdown",
   "metadata": {},
   "source": [
    "## Условие"
   ]
  },
  {
   "cell_type": "markdown",
   "metadata": {},
   "source": [
    "Задача №3 Является продолжением задачи №1 и требует следующее:\n",
    "- Реализовать функцию, которая будет автоматически подгружать информацию из дополнительного файла groups_add.csv (заголовки могут отличаться) и на основании дополнительных параметров пересчитывать метрики.\n",
    "- Реализовать функцию, которая будет строить графики по получаемым метрикам."
   ]
  },
  {
   "cell_type": "markdown",
   "metadata": {},
   "source": [
    "### Загружаем необходимые для работы модули и библиотеки"
   ]
  },
  {
   "cell_type": "code",
   "execution_count": 1,
   "metadata": {},
   "outputs": [],
   "source": [
    "import pandas as pd\n",
    "import matplotlib.pyplot as plt\n",
    "import seaborn as sns\n",
    "\n",
    "from scipy.stats import chi2_contingency, ttest_ind\n",
    "\n",
    "import requests\n",
    "from urllib.parse import urlencode\n"
   ]
  },
  {
   "cell_type": "markdown",
   "metadata": {},
   "source": [
    "### С целью прямой загрузки датасетов с disc.yandex создаём ссылки"
   ]
  },
  {
   "cell_type": "code",
   "execution_count": 2,
   "metadata": {},
   "outputs": [],
   "source": [
    "base_url = 'https://cloud-api.yandex.net/v1/disk/public/resources/download?' \n",
    "\n",
    "# Создаём словарь для хранения ссылок\n",
    "links = {\n",
    "    'groups': 'https://disk.yandex.ru/d/58Us0DWOzuWAjg',\n",
    "    'active_studs': 'https://disk.yandex.ru/d/prbgU-rZpiXVYg',\n",
    "    'checks': 'https://disk.yandex.ru/d/84hTmELphW2sqQ'\n",
    "}\n",
    "\n",
    "# Создаём функцию для получения данных по ссылке\n",
    "def get_dataset_url(public_key):\n",
    "    url = base_url + urlencode(dict(public_key=public_key))\n",
    "    response = requests.get(url)\n",
    "    return response.json()['href']\n",
    "\n",
    "\n",
    "# Используем функцию для получения всех данных\n",
    "datasets = {name: get_dataset_url(link) for name, link in links.items()}\n",
    "\n",
    "groups_dataset = datasets['groups']\n",
    "active_studs_dataset = datasets['active_studs']\n",
    "checks_dataset = datasets['checks']"
   ]
  },
  {
   "cell_type": "markdown",
   "metadata": {},
   "source": [
    "**Создание функции для вывода метрик**  \n",
    "Создаём основную функцию с целью реализации цикла загрузки датасетов и формирования таблиц с дальнейшей выгрузкой итоговых показателей метрик"
   ]
  },
  {
   "cell_type": "code",
   "execution_count": 3,
   "metadata": {},
   "outputs": [],
   "source": [
    "# Загрузка 3-х основных датасетов из CSV файлов с переименованием колонок\n",
    "def build():\n",
    "    df_groups = pd.read_csv(groups_dataset, sep=';', header=0, names=['user_id', 'group'])\n",
    "    df_active_user = pd.read_csv(active_studs_dataset, header=0, names=['user_id'])\n",
    "    df_checks = pd.read_csv(checks_dataset, sep=';', header=0, names=['user_id', 'pay'])\n",
    "\n",
    "    # С помощью конструкции \"try - except\" для обработки исключений\n",
    "    # осуществление попытки добавить дополнительные данные о группах, если они существуют\n",
    "    # с соответствующим выводе о присутствии или отсутствии датасета\n",
    "    \n",
    "    try:\n",
    "        df_add = pd.read_csv(groups_add_dataset, names=['user_id', 'group'], header=0)\n",
    "        df_groups = pd.concat([df_groups, df_add])\n",
    "        print('Дополнительные пользователи присутствуют')\n",
    "    except NameError:\n",
    "        print('Дополнительных пользователей нет')\n",
    "    \n",
    "     # Объединяем активных пользователей с группами\n",
    "    df_active_groups = df_active_user.merge(df_groups, on='user_id', how='left').dropna()\n",
    "    \n",
    "    # Объединяем данные о платежах с группами\n",
    "    df_checks_groups = df_checks.merge(df_groups, on='user_id', how='left').dropna()\n",
    "    \n",
    "    # Объединяем все данные\n",
    "    total_df = pd.merge(df_active_groups, df_checks_groups, on=['user_id', 'group'], how='outer').fillna(0)\n",
    "    total_df['pay_mark'] = total_df['pay'].apply(lambda x: 'no' if x == 0 else 'yes')\n",
    "    \n",
    "    # Создаём сводную таблицу по группам и наличию платежей\n",
    "    table = total_df.groupby(['group', 'pay_mark']).size().unstack(fill_value=0)\n",
    "    \n",
    "    # Расчитываем конверсию в оплату\n",
    "    CR = (table['yes'] / table.sum(axis=1) * 100).round(2)\n",
    "    \n",
    "    # Применяем статистический тест хи-квадрат\n",
    "    stat, p_CR, dof, expected = chi2_contingency(table)\n",
    "    \n",
    "    # Расчитываем ARPPU (Средний доход на платящего пользователя)\n",
    "    ARPPU = total_df.query('pay > 0').groupby('group')['pay'].mean().round(2)\n",
    "    \n",
    "    # t-тест для сравнения ARPPU между группами\n",
    "    p_ARPPU = ttest_ind(total_df.query('group == \"A\" & pay > 0')['pay'],\n",
    "                        total_df.query('group == \"B\" & pay > 0')['pay'])[1]\n",
    "\n",
    "    \n",
    "    return CR, p_CR, ARPPU, p_ARPPU"
   ]
  },
  {
   "cell_type": "code",
   "execution_count": 4,
   "metadata": {},
   "outputs": [
    {
     "name": "stdout",
     "output_type": "stream",
     "text": [
      "ВНИМАНИЕ! Дополнительные пользователи не загружены\n",
      "\n",
      "Метрика CR:\n",
      "group\n",
      "A    6.84\n",
      "B    6.26\n",
      "dtype: float64\n",
      "\n",
      " p-value CR: 0.4308630604023529\n",
      "\n",
      "Метрика ARPPU:\n",
      "group\n",
      "A     860.71\n",
      "B    1107.00\n",
      "Name: pay, dtype: float64\n",
      "\n",
      " p-value ARPPU: 0.002699993302662584\n"
     ]
    }
   ],
   "source": [
    "# Применяем функцию и выводим результат\n",
    "CR, p_CR, ARPPU, p_ARPPU = build()\n",
    "\n",
    "print(f\"\\nМетрика CR:\\n{CR}\\n\\n p-value CR: {p_CR}\\n\\nМетрика ARPPU:\\n{ARPPU}\\n\\n p-value ARPPU: {p_ARPPU}\")"
   ]
  },
  {
   "cell_type": "markdown",
   "metadata": {},
   "source": [
    "В случае обновления данных и предоставления ссылки на них, назначим переменную для обновленной информации о дополнительных пользователях."
   ]
  },
  {
   "cell_type": "code",
   "execution_count": 5,
   "metadata": {},
   "outputs": [],
   "source": [
    "# Добавляем ссылку на дополнительные группы\n",
    "groups_add = 'https://disk.yandex.ru/d/3aARY-P9pfaksg'\n",
    "\n",
    "# Создаём функцию для получения ссылки на скачивание данных\n",
    "def get_download_url(public_key):\n",
    "    url = base_url + urlencode(dict(public_key=public_key))\n",
    "    response = requests.get(url)\n",
    "    return response.json()['href']\n",
    "\n",
    "# Получаем ссылку на дополнительный датасет\n",
    "groups_add_dataset = get_download_url(groups_add)"
   ]
  },
  {
   "cell_type": "markdown",
   "metadata": {},
   "source": [
    "Применяем функцию с учетом дополнительных данных"
   ]
  },
  {
   "cell_type": "code",
   "execution_count": 6,
   "metadata": {},
   "outputs": [
    {
     "name": "stdout",
     "output_type": "stream",
     "text": [
      "Результаты с учетом дополнительных пользователей\n",
      "\n",
      "Метрика CR:\n",
      "group\n",
      "A    6.83\n",
      "B    6.27\n",
      "dtype: float64\n",
      "\n",
      " p-value CR: 0.4464432666411111\n",
      "\n",
      "Метрика ARPPU:\n",
      "group\n",
      "A     860.71\n",
      "B    1108.82\n",
      "Name: pay, dtype: float64\n",
      "\n",
      " p-value ARPPU: 0.0025070167572044644\n"
     ]
    }
   ],
   "source": [
    "CR_n, p_CR_n, ARPPU_n, p_ARPPU_n = build()\n",
    "\n",
    "print(f\"\\nМетрика CR:\\n{CR_n}\\n\\n p-value CR: {p_CR_n}\\n\\nМетрика ARPPU:\\n{ARPPU_n}\\n\\n p-value ARPPU: {p_ARPPU_n}\")"
   ]
  },
  {
   "cell_type": "markdown",
   "metadata": {},
   "source": [
    "Формируем функцию для вывода графиков по получаемым метрикам"
   ]
  },
  {
   "cell_type": "code",
   "execution_count": 7,
   "metadata": {},
   "outputs": [],
   "source": [
    "# Создаём функцию, принимающую 2 метрики \"CR\" и \"ARPPU\" из предыдущей функции.\n",
    "def plot(CR, ARPPU):\n",
    "    fig, axes = plt.subplots(1, 2, figsize=(15, 10))\n",
    "\n",
    "    # График для CR\n",
    "    sns.barplot(data=CR.reset_index(), x='group', y=0, ax=axes[0])\n",
    "    axes[0].set_xlabel('Экспериментальная группа', fontsize=15)\n",
    "    axes[0].set_ylabel('CR (%)', fontsize=15)\n",
    "    axes[0].set_ylim(0, 10)\n",
    "    axes[0].set_title('Метрика CR (%)', fontsize=20)\n",
    "\n",
    "    # График для ARPPU\n",
    "    sns.barplot(data=ARPPU.reset_index(), x='group', y='pay', ax=axes[1])\n",
    "    axes[1].set_xlabel('Экспериментальная группа', fontsize=15)\n",
    "    axes[1].set_ylabel('ARPPU (у.е.)', fontsize=15)\n",
    "    axes[1].set_title('Метрика ARPPU (у.е.)', fontsize=20)"
   ]
  },
  {
   "cell_type": "markdown",
   "metadata": {},
   "source": [
    "Визуализируем график **без учёта** дополнительных данных с помощью диаграммы – барплот"
   ]
  },
  {
   "cell_type": "code",
   "execution_count": 8,
   "metadata": {},
   "outputs": [
    {
     "data": {
      "image/png": "[encoded data removed]",
      "text/plain": [
       "<Figure size 1080x720 with 2 Axes>"
      ]
     },
     "metadata": {
      "needs_background": "light"
     },
     "output_type": "display_data"
    }
   ],
   "source": [
    "plot(CR, ARPPU)"
   ]
  },
  {
   "cell_type": "markdown",
   "metadata": {},
   "source": [
    "Визуализируем график **с учётом** дополнительных данных с помощью диаграммы – барплот\n",
    "(Вывод будет одинаковым, так так дополнительных групп нет)"
   ]
  },
  {
   "cell_type": "code",
   "execution_count": 9,
   "metadata": {},
   "outputs": [
    {
     "data": {
      "image/png": "[encoded data removed]",
      "text/plain": [
       "<Figure size 1080x720 with 2 Axes>"
      ]
     },
     "metadata": {
      "needs_background": "light"
     },
     "output_type": "display_data"
    }
   ],
   "source": [
    "plot(CR_n, ARPPU_n)"
   ]
  },
  {
   "cell_type": "markdown",
   "metadata": {},
   "source": [
    "## Вывод"
   ]
  },
  {
   "cell_type": "markdown",
   "metadata": {},
   "source": [
    "Была разработана функция, которая выполняет следующие шаги:\n",
    "\n",
    "Загрузка данных: Функция автоматически загружает основной и дополнительный файлы данных, используя динамическое получение ссылки на скачивание. В случае наличия файла groups_add.csv данные объединяются с основным датасетом.\n",
    "\n",
    "Обработка данных: С учетом возможных различий в заголовках, данные из groups_add.csv корректно интегрируются в основной датасет. Это позволяет расширить анализ, включив дополнительные параметры.\n",
    "\n",
    "Пересчет метрик: После объединения данных пересчитываются ключевые метрики, такие как CR (Conversion Rate) и ARPPU (Average Revenue Per Paying User), для каждой экспериментальной группы.\n",
    "\n",
    "Визуализация результатов: Построены графики для визуализации пересчитанных метрик, что облегчает интерпретацию результатов эксперимента.\n",
    "\n",
    "Таким образом, функция обеспечивает автоматическую обработку и анализ данных с учетом дополнительных параметров, что позволяет гибко адаптироваться к изменяющимся условиям эксперимента."
   ]
  },
  {
   "cell_type": "code",
   "execution_count": null,
   "metadata": {},
   "outputs": [],
   "source": []
  }
 ],
 "metadata": {
  "kernelspec": {
   "display_name": "Python 3 (ipykernel)",
   "language": "python",
   "name": "python3"
  },
  "language_info": {
   "codemirror_mode": {
    "name": "ipython",
    "version": 3
   },
   "file_extension": ".py",
   "mimetype": "text/x-python",
   "name": "python",
   "nbconvert_exporter": "python",
   "pygments_lexer": "ipython3",
   "version": "3.11.5"
  }
 },
 "nbformat": 4,
 "nbformat_minor": 4
}

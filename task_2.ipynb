{
 "cells": [
  {
   "cell_type": "markdown",
   "metadata": {},
   "source": [
    "# Задание 2. SQL"
   ]
  },
  {
   "cell_type": "code",
   "execution_count": 9,
   "metadata": {},
   "outputs": [],
   "source": [
    "import pandahouse as ph"
   ]
  },
  {
   "cell_type": "markdown",
   "metadata": {},
   "source": [
    "Подключение к базе данных"
   ]
  },
  {
   "cell_type": "code",
   "execution_count": 10,
   "metadata": {},
   "outputs": [],
   "source": [
    "connection_default = {'host': 'https://clickhouse.lab.karpov.courses',\n",
    "                      'database':'default',\n",
    "                      'user':'student', \n",
    "                      'password':'dpo_python_2020'\n",
    "                     }"
   ]
  },
  {
   "cell_type": "markdown",
   "metadata": {},
   "source": [
    "### 2.1 Очень усердные ученики."
   ]
  },
  {
   "cell_type": "markdown",
   "metadata": {},
   "source": [
    "Образовательные курсы состоят из различных уроков, каждый из которых состоит из нескольких маленьких заданий. Каждое такое маленькое задание называется \"горошиной\".\n",
    "\n",
    "Назовём очень усердным учеником того пользователя, который хотя бы раз за текущий месяц правильно решил 20 горошин.\n",
    "\n",
    "Необходимо написать оптимальный запрос, который даст информацию о количестве очень усердных студентов.NB! Под усердным студентом мы понимаем студента, который правильно решил 20 задач за текущий месяц."
   ]
  },
  {
   "cell_type": "code",
   "execution_count": 11,
   "metadata": {},
   "outputs": [],
   "source": [
    "query_1 = '''\n",
    "    SELECT\n",
    "        COUNT(st_id) AS count\n",
    "    FROM\n",
    "        (SELECT\n",
    "            st_id\n",
    "        FROM \n",
    "            peas\n",
    "        GROUP BY\n",
    "            st_id\n",
    "        HAVING\n",
    "            SUM(correct) >= 20)\n",
    "    '''"
   ]
  },
  {
   "cell_type": "code",
   "execution_count": 16,
   "metadata": {},
   "outputs": [
    {
     "data": {
      "text/html": [
       "<div>\n",
       "<style scoped>\n",
       "    .dataframe tbody tr th:only-of-type {\n",
       "        vertical-align: middle;\n",
       "    }\n",
       "\n",
       "    .dataframe tbody tr th {\n",
       "        vertical-align: top;\n",
       "    }\n",
       "\n",
       "    .dataframe thead th {\n",
       "        text-align: right;\n",
       "    }\n",
       "</style>\n",
       "<table border=\"1\" class=\"dataframe\">\n",
       "  <thead>\n",
       "    <tr style=\"text-align: right;\">\n",
       "      <th></th>\n",
       "      <th>count</th>\n",
       "    </tr>\n",
       "  </thead>\n",
       "  <tbody>\n",
       "    <tr>\n",
       "      <th>0</th>\n",
       "      <td>136</td>\n",
       "    </tr>\n",
       "  </tbody>\n",
       "</table>\n",
       "</div>"
      ],
      "text/plain": [
       "   count\n",
       "0    136"
      ]
     },
     "execution_count": 16,
     "metadata": {},
     "output_type": "execute_result"
    }
   ],
   "source": [
    "task_1 = ph.read_clickhouse(query=query_1, connection=connection_default)\n",
    "task_1"
   ]
  },
  {
   "cell_type": "markdown",
   "metadata": {},
   "source": [
    "### 2.2 Оптимизация воронки"
   ]
  },
  {
   "cell_type": "markdown",
   "metadata": {},
   "source": [
    "Образовательная платформа предлагает пройти студентам курсы по модели trial: студент может решить бесплатно лишь 30 горошин в день. Для неограниченного количества заданий в определенной дисциплине студенту необходимо приобрести полный доступ. Команда провела эксперимент, где был протестирован новый экран оплаты.\n",
    "    \n",
    "Необходимо в одном запросе выгрузить следующую информацию о группах пользователей:\n",
    "\n",
    "- ARPU\n",
    "\n",
    "- ARPAU \n",
    "\n",
    "- CR в покупку \n",
    "\n",
    "- СR активного пользователя в покупку \n",
    "\n",
    "- CR пользователя из активности по математике (subject = ’math’) в покупку курса по математике\n",
    "\n",
    "ARPU считается относительно всех пользователей, попавших в группы.\n",
    "\n",
    "Активным считается пользователь, за все время решивший больше 10 задач правильно в любых дисциплинах.\n",
    "\n",
    "Активным по математике считается пользователь, за все время решивший 2 или больше задач правильно по математике."
   ]
  },
  {
   "cell_type": "code",
   "execution_count": 14,
   "metadata": {},
   "outputs": [],
   "source": [
    "query_2 = '''\n",
    "    WITH revenue_table AS (\n",
    "        SELECT \n",
    "            SUM(money) FILTER(WHERE test_grp = 'pilot') AS sum_pilot,\n",
    "            SUM(money) FILTER(WHERE test_grp = 'control') AS sum_control\n",
    "        FROM\n",
    "            final_project_check AS l\n",
    "        LEFT JOIN studs AS r\n",
    "        ON l.st_id = r.st_id\n",
    "    ),\n",
    "\n",
    "    count_all_users AS (\n",
    "        SELECT\n",
    "            COUNT(st_id) FILTER(WHERE test_grp = 'pilot') AS count_pilot_users,\n",
    "            COUNT(st_id) FILTER(WHERE test_grp = 'control') AS count_control_users\n",
    "        FROM\n",
    "            studs\n",
    "    ),\n",
    "\n",
    "    active_users AS (\n",
    "        SELECT\n",
    "            st_id,\n",
    "            test_grp\n",
    "        FROM\n",
    "            (SELECT\n",
    "                st_id\n",
    "            FROM \n",
    "                peas\n",
    "            GROUP BY\n",
    "                st_id\n",
    "            HAVING\n",
    "                SUM(correct) > 10) AS t1\n",
    "        JOIN studs\n",
    "        ON t1.st_id = studs.st_id\n",
    "    ),\n",
    "\n",
    "    count_active_users AS (\n",
    "        SELECT\n",
    "            COUNT(st_id) FILTER(WHERE test_grp = 'pilot') AS count_active_pilot_users,\n",
    "            COUNT(st_id) FILTER(WHERE test_grp = 'control') AS count_active_control_users\n",
    "        FROM\n",
    "            active_users\n",
    "    ),\n",
    "\n",
    "    count_users_purchased AS (\n",
    "        SELECT\n",
    "            COUNT(st_id) FILTER(WHERE test_grp = 'pilot') AS count_users_purchased_pilot,\n",
    "            COUNT(st_id) FILTER(WHERE test_grp = 'control') AS count_users_purchased_control\n",
    "        FROM    \n",
    "            (SELECT \n",
    "                DISTINCT st_id,\n",
    "                test_grp\n",
    "            FROM\n",
    "                final_project_check AS l\n",
    "            LEFT JOIN studs AS r\n",
    "            ON l.st_id = r.st_id)\n",
    "    ),\n",
    "\n",
    "    count_active_users_purchased AS (\n",
    "        SELECT\n",
    "            COUNT(st_id) FILTER(WHERE test_grp = 'pilot') AS count_active_users_purchased_pilot,\n",
    "            COUNT(st_id) FILTER(WHERE test_grp = 'control') AS count_active_users_purchased_control\n",
    "        FROM    \n",
    "            (SELECT\n",
    "                DISTINCT st_id,\n",
    "                test_grp\n",
    "            FROM\n",
    "                final_project_check AS l\n",
    "            JOIN studs AS r\n",
    "            ON l.st_id = r.st_id\n",
    "            WHERE\n",
    "                st_id IN (SELECT st_id FROM active_users))\n",
    "    ),\n",
    "\n",
    "    active_users_by_math AS (\n",
    "        SELECT\n",
    "            st_id\n",
    "        FROM\n",
    "            peas\n",
    "        WHERE\n",
    "            subject = 'Math'\n",
    "        GROUP BY\n",
    "            st_id\n",
    "        HAVING\n",
    "            SUM(correct) >= 2\n",
    "    ),\n",
    "\n",
    "    count_active_users_by_math AS (\n",
    "        SELECT\n",
    "            COUNT(st_id) FILTER(WHERE test_grp = 'pilot') AS count_active_users_math_pilot,\n",
    "            COUNT(st_id) FILTER(WHERE test_grp = 'control') AS count_active_users_math_control\n",
    "        FROM\n",
    "            active_users_by_math AS l\n",
    "        JOIN studs AS r\n",
    "        ON l.st_id = r.st_id\n",
    "    ),\n",
    "\n",
    "    count_active_by_math_purchased AS (\n",
    "        SELECT\n",
    "            COUNT(st_id) FILTER(WHERE test_grp = 'pilot') AS count_users_purchased_math_pilot,\n",
    "            COUNT(st_id) FILTER(WHERE test_grp = 'control') AS count_users_purchased_math_control\n",
    "        FROM\n",
    "            (SELECT\n",
    "                st_id   \n",
    "            FROM\n",
    "                final_project_check\n",
    "            WHERE\n",
    "                subject = 'Math' AND st_id IN (SELECT * FROM active_users_by_math)) AS l\n",
    "        JOIN studs AS r\n",
    "        ON l.st_id = r.st_id\n",
    "    )\n",
    "\n",
    "    SELECT\n",
    "        (SELECT sum_pilot FROM revenue_table) / (SELECT count_pilot_users FROM count_all_users) AS arpu_pilot,\n",
    "        (SELECT sum_control FROM revenue_table) / (SELECT count_control_users FROM count_all_users) AS arpu_control,\n",
    "        (SELECT sum_pilot FROM revenue_table) / (SELECT count_active_pilot_users FROM count_active_users) AS arpau_pilot,\n",
    "        (SELECT sum_control FROM revenue_table) / (SELECT count_active_control_users FROM count_active_users) AS arpau_control,\n",
    "        (SELECT count_users_purchased_pilot FROM count_users_purchased) / (SELECT count_pilot_users FROM count_all_users) AS CR_pilot,\n",
    "        (SELECT count_users_purchased_control FROM count_users_purchased) / (SELECT count_control_users FROM count_all_users) AS CR_control,\n",
    "        (SELECT count_active_users_purchased_pilot FROM count_active_users_purchased) / (SELECT count_active_pilot_users FROM count_active_users) AS CR_active_pilot,\n",
    "        (SELECT count_active_users_purchased_control FROM count_active_users_purchased) / (SELECT count_active_control_users FROM count_active_users) AS CR_active_control,\n",
    "        (SELECT count_users_purchased_math_pilot FROM count_active_by_math_purchased) / (SELECT count_active_users_math_pilot FROM count_active_users_by_math) AS CR_active_math_pilot,\n",
    "        (SELECT count_users_purchased_math_control FROM count_active_by_math_purchased) / (SELECT count_active_users_math_control FROM count_active_users_by_math) AS CR_active_math_control\n",
    "    FROM\n",
    "        studs\n",
    "    LIMIT 1\n",
    "    ''' "
   ]
  },
  {
   "cell_type": "code",
   "execution_count": 15,
   "metadata": {},
   "outputs": [
    {
     "data": {
      "text/html": [
       "<div>\n",
       "<style scoped>\n",
       "    .dataframe tbody tr th:only-of-type {\n",
       "        vertical-align: middle;\n",
       "    }\n",
       "\n",
       "    .dataframe tbody tr th {\n",
       "        vertical-align: top;\n",
       "    }\n",
       "\n",
       "    .dataframe thead th {\n",
       "        text-align: right;\n",
       "    }\n",
       "</style>\n",
       "<table border=\"1\" class=\"dataframe\">\n",
       "  <thead>\n",
       "    <tr style=\"text-align: right;\">\n",
       "      <th></th>\n",
       "      <th>arpu_pilot</th>\n",
       "      <th>arpu_control</th>\n",
       "      <th>arpau_pilot</th>\n",
       "      <th>arpau_control</th>\n",
       "      <th>CR_pilot</th>\n",
       "      <th>CR_control</th>\n",
       "      <th>CR_active_pilot</th>\n",
       "      <th>CR_active_control</th>\n",
       "      <th>CR_active_math_pilot</th>\n",
       "      <th>CR_active_math_control</th>\n",
       "    </tr>\n",
       "  </thead>\n",
       "  <tbody>\n",
       "    <tr>\n",
       "      <th>0</th>\n",
       "      <td>11508.474576</td>\n",
       "      <td>4540.983607</td>\n",
       "      <td>35364.583333</td>\n",
       "      <td>10905.511811</td>\n",
       "      <td>0.108475</td>\n",
       "      <td>0.04918</td>\n",
       "      <td>0.260417</td>\n",
       "      <td>0.110236</td>\n",
       "      <td>0.095238</td>\n",
       "      <td>0.061224</td>\n",
       "    </tr>\n",
       "  </tbody>\n",
       "</table>\n",
       "</div>"
      ],
      "text/plain": [
       "     arpu_pilot  arpu_control   arpau_pilot  arpau_control  CR_pilot  \\\n",
       "0  11508.474576   4540.983607  35364.583333   10905.511811  0.108475   \n",
       "\n",
       "   CR_control  CR_active_pilot  CR_active_control  CR_active_math_pilot  \\\n",
       "0     0.04918         0.260417           0.110236              0.095238   \n",
       "\n",
       "   CR_active_math_control  \n",
       "0                0.061224  "
      ]
     },
     "execution_count": 15,
     "metadata": {},
     "output_type": "execute_result"
    }
   ],
   "source": [
    "task_2 = ph.read_clickhouse(query=query_2, connection=connection_default)\n",
    "task_2"
   ]
  }
 ],
 "metadata": {
  "kernelspec": {
   "display_name": "Python 3",
   "language": "python",
   "name": "python3"
  },
  "language_info": {
   "codemirror_mode": {
    "name": "ipython",
    "version": 3
   },
   "file_extension": ".py",
   "mimetype": "text/x-python",
   "name": "python",
   "nbconvert_exporter": "python",
   "pygments_lexer": "ipython3",
   "version": "3.7.3"
  }
 },
 "nbformat": 4,
 "nbformat_minor": 4
}
